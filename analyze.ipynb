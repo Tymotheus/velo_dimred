{
 "cells": [
  {
   "cell_type": "code",
   "execution_count": 1,
   "metadata": {},
   "outputs": [],
   "source": [
    "import matplotlib as mpl\n",
    "mpl.rcParams[\"figure.facecolor\"] = \"white\"\n",
    "\n",
    "mpl.rcParams[\"axes.facecolor\"] = \"white\"\n",
    "mpl.rcParams[\"savefig.facecolor\"] = \"white\"\n",
    "%matplotlib inline"
   ]
  },
  {
   "cell_type": "code",
   "execution_count": 2,
   "metadata": {},
   "outputs": [],
   "source": [
    "\n",
    "import pandas as pd\n",
    "%load_ext autoreload\n",
    "%autoreload 2\n",
    "import numpy as np\n",
    "import matplotlib.pyplot as plt"
   ]
  },
  {
   "cell_type": "code",
   "execution_count": 3,
   "metadata": {},
   "outputs": [
    {
     "name": "stderr",
     "output_type": "stream",
     "text": [
      "100%|██████████| 30/30 [00:04<00:00,  7.08it/s]\n"
     ]
    }
   ],
   "source": [
    "from calibration_dataset import Tell1Dataset\n",
    "\n",
    "class MyDS(Tell1Dataset):\n",
    "\tfilename_format = '%Y-%m-%d'\n",
    "\tfilename_regex_format = r'\\d{4}-\\d{2}-\\d{2}.csv'\n",
    "\n",
    "datapath = \"calibrations/\"\n",
    "data_list = MyDS.get_filepaths_from_dir(datapath)\n",
    "mds = MyDS(data_list, read=True)\n",
    "\n"
   ]
  },
  {
   "cell_type": "code",
   "execution_count": 4,
   "metadata": {},
   "outputs": [],
   "source": [
    "%load_ext tensorboard"
   ]
  },
  {
   "cell_type": "code",
   "execution_count": 5,
   "metadata": {},
   "outputs": [],
   "source": [
    "from networks import VeloDecoderSmall, VeloEncoderSmall, VeloAutoencoderLt\n",
    "import pytorch_lightning as pl\n",
    "import torch\n",
    "from torch.utils.data import DataLoader, TensorDataset"
   ]
  },
  {
   "cell_type": "code",
   "execution_count": 6,
   "metadata": {},
   "outputs": [
    {
     "data": {
      "text/html": [
       "<div>\n",
       "<style scoped>\n",
       "    .dataframe tbody tr th:only-of-type {\n",
       "        vertical-align: middle;\n",
       "    }\n",
       "\n",
       "    .dataframe tbody tr th {\n",
       "        vertical-align: top;\n",
       "    }\n",
       "\n",
       "    .dataframe thead th {\n",
       "        text-align: right;\n",
       "    }\n",
       "</style>\n",
       "<table border=\"1\" class=\"dataframe\">\n",
       "  <thead>\n",
       "    <tr style=\"text-align: right;\">\n",
       "      <th></th>\n",
       "      <th>type</th>\n",
       "      <th>sensor</th>\n",
       "      <th>datetime</th>\n",
       "      <th>Zmod</th>\n",
       "      <th>slot_label</th>\n",
       "      <th>mod_nr</th>\n",
       "      <th>mod_type</th>\n",
       "      <th>sensor_type</th>\n",
       "      <th>sensor_number</th>\n",
       "      <th>channel0</th>\n",
       "      <th>...</th>\n",
       "      <th>channel2038</th>\n",
       "      <th>channel2039</th>\n",
       "      <th>channel2040</th>\n",
       "      <th>channel2041</th>\n",
       "      <th>channel2042</th>\n",
       "      <th>channel2043</th>\n",
       "      <th>channel2044</th>\n",
       "      <th>channel2045</th>\n",
       "      <th>channel2046</th>\n",
       "      <th>channel2047</th>\n",
       "    </tr>\n",
       "  </thead>\n",
       "  <tbody>\n",
       "    <tr>\n",
       "      <th>2</th>\n",
       "      <td>hit_threshold</td>\n",
       "      <td>0.0</td>\n",
       "      <td>2010-08-16</td>\n",
       "      <td>-175</td>\n",
       "      <td>VL01L</td>\n",
       "      <td>mod_0</td>\n",
       "      <td>VELO_phi</td>\n",
       "      <td>R</td>\n",
       "      <td>#0</td>\n",
       "      <td>17.0</td>\n",
       "      <td>...</td>\n",
       "      <td>13.0</td>\n",
       "      <td>12.0</td>\n",
       "      <td>12.0</td>\n",
       "      <td>13.0</td>\n",
       "      <td>12.0</td>\n",
       "      <td>13.0</td>\n",
       "      <td>12.0</td>\n",
       "      <td>12.0</td>\n",
       "      <td>12.0</td>\n",
       "      <td>13.0</td>\n",
       "    </tr>\n",
       "    <tr>\n",
       "      <th>5</th>\n",
       "      <td>hit_threshold</td>\n",
       "      <td>0.0</td>\n",
       "      <td>2010-08-18</td>\n",
       "      <td>-175</td>\n",
       "      <td>VL01L</td>\n",
       "      <td>mod_0</td>\n",
       "      <td>VELO_phi</td>\n",
       "      <td>R</td>\n",
       "      <td>#0</td>\n",
       "      <td>17.0</td>\n",
       "      <td>...</td>\n",
       "      <td>12.0</td>\n",
       "      <td>12.0</td>\n",
       "      <td>12.0</td>\n",
       "      <td>12.0</td>\n",
       "      <td>13.0</td>\n",
       "      <td>13.0</td>\n",
       "      <td>12.0</td>\n",
       "      <td>13.0</td>\n",
       "      <td>12.0</td>\n",
       "      <td>12.0</td>\n",
       "    </tr>\n",
       "    <tr>\n",
       "      <th>8</th>\n",
       "      <td>hit_threshold</td>\n",
       "      <td>0.0</td>\n",
       "      <td>2011-03-07</td>\n",
       "      <td>-175</td>\n",
       "      <td>VL01L</td>\n",
       "      <td>mod_0</td>\n",
       "      <td>VELO_phi</td>\n",
       "      <td>R</td>\n",
       "      <td>#0</td>\n",
       "      <td>18.0</td>\n",
       "      <td>...</td>\n",
       "      <td>13.0</td>\n",
       "      <td>13.0</td>\n",
       "      <td>13.0</td>\n",
       "      <td>13.0</td>\n",
       "      <td>13.0</td>\n",
       "      <td>13.0</td>\n",
       "      <td>13.0</td>\n",
       "      <td>13.0</td>\n",
       "      <td>13.0</td>\n",
       "      <td>13.0</td>\n",
       "    </tr>\n",
       "    <tr>\n",
       "      <th>11</th>\n",
       "      <td>hit_threshold</td>\n",
       "      <td>0.0</td>\n",
       "      <td>2011-05-01</td>\n",
       "      <td>-175</td>\n",
       "      <td>VL01L</td>\n",
       "      <td>mod_0</td>\n",
       "      <td>VELO_phi</td>\n",
       "      <td>R</td>\n",
       "      <td>#0</td>\n",
       "      <td>16.0</td>\n",
       "      <td>...</td>\n",
       "      <td>13.0</td>\n",
       "      <td>14.0</td>\n",
       "      <td>14.0</td>\n",
       "      <td>13.0</td>\n",
       "      <td>13.0</td>\n",
       "      <td>13.0</td>\n",
       "      <td>13.0</td>\n",
       "      <td>13.0</td>\n",
       "      <td>14.0</td>\n",
       "      <td>13.0</td>\n",
       "    </tr>\n",
       "    <tr>\n",
       "      <th>14</th>\n",
       "      <td>hit_threshold</td>\n",
       "      <td>0.0</td>\n",
       "      <td>2011-06-18</td>\n",
       "      <td>-175</td>\n",
       "      <td>VL01L</td>\n",
       "      <td>mod_0</td>\n",
       "      <td>VELO_phi</td>\n",
       "      <td>R</td>\n",
       "      <td>#0</td>\n",
       "      <td>10.0</td>\n",
       "      <td>...</td>\n",
       "      <td>13.0</td>\n",
       "      <td>13.0</td>\n",
       "      <td>13.0</td>\n",
       "      <td>13.0</td>\n",
       "      <td>13.0</td>\n",
       "      <td>13.0</td>\n",
       "      <td>14.0</td>\n",
       "      <td>14.0</td>\n",
       "      <td>13.0</td>\n",
       "      <td>14.0</td>\n",
       "    </tr>\n",
       "    <tr>\n",
       "      <th>...</th>\n",
       "      <td>...</td>\n",
       "      <td>...</td>\n",
       "      <td>...</td>\n",
       "      <td>...</td>\n",
       "      <td>...</td>\n",
       "      <td>...</td>\n",
       "      <td>...</td>\n",
       "      <td>...</td>\n",
       "      <td>...</td>\n",
       "      <td>...</td>\n",
       "      <td>...</td>\n",
       "      <td>...</td>\n",
       "      <td>...</td>\n",
       "      <td>...</td>\n",
       "      <td>...</td>\n",
       "      <td>...</td>\n",
       "      <td>...</td>\n",
       "      <td>...</td>\n",
       "      <td>...</td>\n",
       "      <td>...</td>\n",
       "      <td>...</td>\n",
       "    </tr>\n",
       "    <tr>\n",
       "      <th>3767</th>\n",
       "      <td>hit_threshold</td>\n",
       "      <td>41.0</td>\n",
       "      <td>2016-11-07</td>\n",
       "      <td>750</td>\n",
       "      <td>VL25R</td>\n",
       "      <td>mod_41</td>\n",
       "      <td>VELO_R</td>\n",
       "      <td>R</td>\n",
       "      <td>#41</td>\n",
       "      <td>17.0</td>\n",
       "      <td>...</td>\n",
       "      <td>13.0</td>\n",
       "      <td>14.0</td>\n",
       "      <td>13.0</td>\n",
       "      <td>14.0</td>\n",
       "      <td>14.0</td>\n",
       "      <td>13.0</td>\n",
       "      <td>14.0</td>\n",
       "      <td>14.0</td>\n",
       "      <td>13.0</td>\n",
       "      <td>14.0</td>\n",
       "    </tr>\n",
       "    <tr>\n",
       "      <th>3770</th>\n",
       "      <td>hit_threshold</td>\n",
       "      <td>41.0</td>\n",
       "      <td>2016-11-11</td>\n",
       "      <td>750</td>\n",
       "      <td>VL25R</td>\n",
       "      <td>mod_41</td>\n",
       "      <td>VELO_R</td>\n",
       "      <td>R</td>\n",
       "      <td>#41</td>\n",
       "      <td>17.0</td>\n",
       "      <td>...</td>\n",
       "      <td>13.0</td>\n",
       "      <td>13.0</td>\n",
       "      <td>13.0</td>\n",
       "      <td>14.0</td>\n",
       "      <td>14.0</td>\n",
       "      <td>13.0</td>\n",
       "      <td>14.0</td>\n",
       "      <td>14.0</td>\n",
       "      <td>14.0</td>\n",
       "      <td>14.0</td>\n",
       "    </tr>\n",
       "    <tr>\n",
       "      <th>3773</th>\n",
       "      <td>hit_threshold</td>\n",
       "      <td>41.0</td>\n",
       "      <td>2017-05-21</td>\n",
       "      <td>750</td>\n",
       "      <td>VL25R</td>\n",
       "      <td>mod_41</td>\n",
       "      <td>VELO_R</td>\n",
       "      <td>R</td>\n",
       "      <td>#41</td>\n",
       "      <td>17.0</td>\n",
       "      <td>...</td>\n",
       "      <td>13.0</td>\n",
       "      <td>13.0</td>\n",
       "      <td>13.0</td>\n",
       "      <td>13.0</td>\n",
       "      <td>13.0</td>\n",
       "      <td>13.0</td>\n",
       "      <td>14.0</td>\n",
       "      <td>13.0</td>\n",
       "      <td>13.0</td>\n",
       "      <td>14.0</td>\n",
       "    </tr>\n",
       "    <tr>\n",
       "      <th>3776</th>\n",
       "      <td>hit_threshold</td>\n",
       "      <td>41.0</td>\n",
       "      <td>2017-06-21</td>\n",
       "      <td>750</td>\n",
       "      <td>VL25R</td>\n",
       "      <td>mod_41</td>\n",
       "      <td>VELO_R</td>\n",
       "      <td>R</td>\n",
       "      <td>#41</td>\n",
       "      <td>17.0</td>\n",
       "      <td>...</td>\n",
       "      <td>13.0</td>\n",
       "      <td>14.0</td>\n",
       "      <td>13.0</td>\n",
       "      <td>14.0</td>\n",
       "      <td>13.0</td>\n",
       "      <td>13.0</td>\n",
       "      <td>14.0</td>\n",
       "      <td>14.0</td>\n",
       "      <td>13.0</td>\n",
       "      <td>13.0</td>\n",
       "    </tr>\n",
       "    <tr>\n",
       "      <th>3779</th>\n",
       "      <td>hit_threshold</td>\n",
       "      <td>41.0</td>\n",
       "      <td>2017-07-18</td>\n",
       "      <td>750</td>\n",
       "      <td>VL25R</td>\n",
       "      <td>mod_41</td>\n",
       "      <td>VELO_R</td>\n",
       "      <td>R</td>\n",
       "      <td>#41</td>\n",
       "      <td>17.0</td>\n",
       "      <td>...</td>\n",
       "      <td>13.0</td>\n",
       "      <td>13.0</td>\n",
       "      <td>13.0</td>\n",
       "      <td>14.0</td>\n",
       "      <td>14.0</td>\n",
       "      <td>13.0</td>\n",
       "      <td>14.0</td>\n",
       "      <td>14.0</td>\n",
       "      <td>14.0</td>\n",
       "      <td>14.0</td>\n",
       "    </tr>\n",
       "  </tbody>\n",
       "</table>\n",
       "<p>1260 rows × 2057 columns</p>\n",
       "</div>"
      ],
      "text/plain": [
       "               type  sensor   datetime  Zmod slot_label  mod_nr  mod_type  \\\n",
       "2     hit_threshold     0.0 2010-08-16  -175      VL01L   mod_0  VELO_phi   \n",
       "5     hit_threshold     0.0 2010-08-18  -175      VL01L   mod_0  VELO_phi   \n",
       "8     hit_threshold     0.0 2011-03-07  -175      VL01L   mod_0  VELO_phi   \n",
       "11    hit_threshold     0.0 2011-05-01  -175      VL01L   mod_0  VELO_phi   \n",
       "14    hit_threshold     0.0 2011-06-18  -175      VL01L   mod_0  VELO_phi   \n",
       "...             ...     ...        ...   ...        ...     ...       ...   \n",
       "3767  hit_threshold    41.0 2016-11-07   750      VL25R  mod_41    VELO_R   \n",
       "3770  hit_threshold    41.0 2016-11-11   750      VL25R  mod_41    VELO_R   \n",
       "3773  hit_threshold    41.0 2017-05-21   750      VL25R  mod_41    VELO_R   \n",
       "3776  hit_threshold    41.0 2017-06-21   750      VL25R  mod_41    VELO_R   \n",
       "3779  hit_threshold    41.0 2017-07-18   750      VL25R  mod_41    VELO_R   \n",
       "\n",
       "     sensor_type sensor_number  channel0  ...  channel2038  channel2039  \\\n",
       "2              R            #0      17.0  ...         13.0         12.0   \n",
       "5              R            #0      17.0  ...         12.0         12.0   \n",
       "8              R            #0      18.0  ...         13.0         13.0   \n",
       "11             R            #0      16.0  ...         13.0         14.0   \n",
       "14             R            #0      10.0  ...         13.0         13.0   \n",
       "...          ...           ...       ...  ...          ...          ...   \n",
       "3767           R           #41      17.0  ...         13.0         14.0   \n",
       "3770           R           #41      17.0  ...         13.0         13.0   \n",
       "3773           R           #41      17.0  ...         13.0         13.0   \n",
       "3776           R           #41      17.0  ...         13.0         14.0   \n",
       "3779           R           #41      17.0  ...         13.0         13.0   \n",
       "\n",
       "      channel2040  channel2041  channel2042  channel2043  channel2044  \\\n",
       "2            12.0         13.0         12.0         13.0         12.0   \n",
       "5            12.0         12.0         13.0         13.0         12.0   \n",
       "8            13.0         13.0         13.0         13.0         13.0   \n",
       "11           14.0         13.0         13.0         13.0         13.0   \n",
       "14           13.0         13.0         13.0         13.0         14.0   \n",
       "...           ...          ...          ...          ...          ...   \n",
       "3767         13.0         14.0         14.0         13.0         14.0   \n",
       "3770         13.0         14.0         14.0         13.0         14.0   \n",
       "3773         13.0         13.0         13.0         13.0         14.0   \n",
       "3776         13.0         14.0         13.0         13.0         14.0   \n",
       "3779         13.0         14.0         14.0         13.0         14.0   \n",
       "\n",
       "      channel2045  channel2046  channel2047  \n",
       "2            12.0         12.0         13.0  \n",
       "5            13.0         12.0         12.0  \n",
       "8            13.0         13.0         13.0  \n",
       "11           13.0         14.0         13.0  \n",
       "14           14.0         13.0         14.0  \n",
       "...           ...          ...          ...  \n",
       "3767         14.0         13.0         14.0  \n",
       "3770         14.0         14.0         14.0  \n",
       "3773         13.0         13.0         14.0  \n",
       "3776         14.0         13.0         13.0  \n",
       "3779         14.0         14.0         14.0  \n",
       "\n",
       "[1260 rows x 2057 columns]"
      ]
     },
     "execution_count": 6,
     "metadata": {},
     "output_type": "execute_result"
    }
   ],
   "source": [
    "mds.dfh['R'].df"
   ]
  },
  {
   "cell_type": "code",
   "execution_count": 7,
   "metadata": {},
   "outputs": [],
   "source": [
    "dfh = mds.dfh.df.iloc[:,9:]\n",
    "dfh_r = mds.dfh['R'].df.iloc[:,9:]\n",
    "dfh_phi = mds.dfh['phi'].df.iloc[:,9:]"
   ]
  },
  {
   "cell_type": "code",
   "execution_count": 8,
   "metadata": {},
   "outputs": [],
   "source": [
    "dfp = mds.dfp.df.iloc[:,9:]\n",
    "dfp_r = mds.dfp['R'].df.iloc[:,9:]\n",
    "dfp_phi = mds.dfp['phi'].df.iloc[:,9:]"
   ]
  },
  {
   "cell_type": "code",
   "execution_count": 9,
   "metadata": {},
   "outputs": [],
   "source": [
    "from sklearn.model_selection import train_test_split\n",
    "from pytorch_lightning.loggers import TensorBoardLogger\n",
    "import neptune\n",
    "import os\n",
    "\n"
   ]
  },
  {
   "cell_type": "code",
   "execution_count": 10,
   "metadata": {},
   "outputs": [],
   "source": [
    "def make_loader(dataset):\n",
    "    train, test = train_test_split(dataset, test_size=0.2)\n",
    "    train_target = torch.tensor(train.values, dtype=torch.float)\n",
    "    train_data = torch.tensor(train.values, dtype=torch.float)\n",
    "    test_target = torch.tensor(test.values, dtype=torch.float)\n",
    "    test_data = torch.tensor(test.values, dtype=torch.float)\n",
    "    train_tensor = TensorDataset(train_data, train_target) \n",
    "    test_tensor = TensorDataset(test_data, test_target) \n",
    "    train_loader = DataLoader(dataset = train_tensor)\n",
    "    test_loader = DataLoader(dataset = test_tensor)\n",
    "    return train_loader, test_loader"
   ]
  },
  {
   "cell_type": "code",
   "execution_count": 11,
   "metadata": {},
   "outputs": [
    {
     "data": {
      "text/plain": [
       "'15_12_2020_17_54_51'"
      ]
     },
     "execution_count": 11,
     "metadata": {},
     "output_type": "execute_result"
    }
   ],
   "source": [
    "from datetime import datetime\n",
    "datetime.now().strftime(\"%d_%m_%Y_%H_%M_%S\")"
   ]
  },
  {
   "cell_type": "code",
   "execution_count": 12,
   "metadata": {},
   "outputs": [
    {
     "name": "stdout",
     "output_type": "stream",
     "text": [
      "https://ui.neptune.ai/pawel-drabczyk/velodimred/e/VEL-69\n"
     ]
    }
   ],
   "source": [
    "PARAMS = {'max_epochs': 1,\n",
    "          'learning_rate': 0.005,\n",
    "          'batch_size': 32,\n",
    "          'gpus' : 1,\n",
    "            'name' : 'testing'\n",
    "         }\n",
    "\n",
    "neptune.init(project_qualified_name='pawel-drabczyk/velodimred',\n",
    "            api_token=os.environ['NEPTUNE_API_TOKEN']\n",
    "             )\n",
    "exp = neptune.create_experiment(name=PARAMS['name'],\n",
    "                              params=PARAMS,\n",
    "                              upload_source_files=['analyze.ipynb', 'networks.py'])\n",
    "    \n",
    "if not os.path.exists('models/{}'.format(PARAMS['name'])):\n",
    "    os.makedirs('models/{}'.format(PARAMS['name'])) "
   ]
  },
  {
   "cell_type": "code",
   "execution_count": 13,
   "metadata": {},
   "outputs": [],
   "source": [
    "def make_model_trainer(s, version):\n",
    "    s = 2048\n",
    "    dec = VeloDecoderSmall(s)\n",
    "    enc = VeloEncoderSmall(s)\n",
    "    model = VeloAutoencoderLt(enc, dec)\n",
    "\n",
    "    logger = TensorBoardLogger(\n",
    "        save_dir=os.getcwd(),\n",
    "        version=version+datetime.now().strftime(\"_%d_%m_%Y_%H_%M_%S\"),\n",
    "        name='lightning_logs'\n",
    "    )\n",
    "    \n",
    "    tr = pl.Trainer(logger=logger, max_epochs=PARAMS['max_epochs'], gpus=PARAMS['gpus'])\n",
    "    return model, tr\n",
    "\n"
   ]
  },
  {
   "cell_type": "code",
   "execution_count": 14,
   "metadata": {},
   "outputs": [],
   "source": [
    "def run_experiment(dataset, version):\n",
    "    train_loader, test_loader = make_loader(dataset)\n",
    "    s = dataset.shape[1]\n",
    "    model, tr = make_model_trainer(s, version)\n",
    "    tr.fit(model, train_loader, test_loader)\n",
    "    \n",
    "    tr.save_checkpoint('models/{}/trained_model.ckpt'.format(PARAMS['name']))\n",
    "    neptune.log_artifact('models/{}/trained_model.ckpt'.format(PARAMS['name']))"
   ]
  },
  {
   "cell_type": "code",
   "execution_count": 15,
   "metadata": {},
   "outputs": [
    {
     "name": "stderr",
     "output_type": "stream",
     "text": [
      "GPU available: True, used: True\n",
      "TPU available: False, using: 0 TPU cores\n",
      "LOCAL_RANK: 0 - CUDA_VISIBLE_DEVICES: [0]\n",
      "\n",
      "  | Name | Type             | Params\n",
      "------------------------------------------\n",
      "0 | enc  | VeloEncoderSmall | 82 K  \n",
      "1 | dec  | VeloDecoderSmall | 84 K  \n",
      "/home/pawel/anaconda3/envs/python_env_3.8/lib/python3.8/site-packages/pytorch_lightning/utilities/distributed.py:45: UserWarning: The dataloader, val dataloader 0, does not have many workers which may be a bottleneck. Consider increasing the value of the `num_workers` argument` (try 4 which is the number of cpus on this machine) in the `DataLoader` init to improve performance.\n",
      "  warnings.warn(*args, **kwargs)\n"
     ]
    },
    {
     "data": {
      "application/vnd.jupyter.widget-view+json": {
       "model_id": "",
       "version_major": 2,
       "version_minor": 0
      },
      "text/plain": [
       "HBox(children=(HTML(value='Validation sanity check'), FloatProgress(value=1.0, bar_style='info', layout=Layout…"
      ]
     },
     "metadata": {},
     "output_type": "display_data"
    },
    {
     "name": "stderr",
     "output_type": "stream",
     "text": [
      "/home/pawel/anaconda3/envs/python_env_3.8/lib/python3.8/site-packages/pytorch_lightning/utilities/distributed.py:45: UserWarning: The dataloader, train dataloader, does not have many workers which may be a bottleneck. Consider increasing the value of the `num_workers` argument` (try 4 which is the number of cpus on this machine) in the `DataLoader` init to improve performance.\n",
      "  warnings.warn(*args, **kwargs)\n"
     ]
    },
    {
     "data": {
      "application/vnd.jupyter.widget-view+json": {
       "model_id": "94c3aa521ccf4104b312fb6b6f29421d",
       "version_major": 2,
       "version_minor": 0
      },
      "text/plain": [
       "HBox(children=(HTML(value='Training'), FloatProgress(value=1.0, bar_style='info', layout=Layout(flex='2'), max…"
      ]
     },
     "metadata": {},
     "output_type": "display_data"
    },
    {
     "data": {
      "application/vnd.jupyter.widget-view+json": {
       "model_id": "",
       "version_major": 2,
       "version_minor": 0
      },
      "text/plain": [
       "HBox(children=(HTML(value='Validating'), FloatProgress(value=1.0, bar_style='info', layout=Layout(flex='2'), m…"
      ]
     },
     "metadata": {},
     "output_type": "display_data"
    },
    {
     "name": "stdout",
     "output_type": "stream",
     "text": [
      "\n"
     ]
    }
   ],
   "source": [
    "run_experiment(dfh, \"dfh_small\")\n",
    "\n"
   ]
  },
  {
   "cell_type": "code",
   "execution_count": 16,
   "metadata": {},
   "outputs": [],
   "source": [
    "#run_experiment(dfp, \"dfp_small\")\n",
    "#run_experiment(dfp_r, \"dfp_r_small\")\n",
    "#run_experiment(dfh_r, \"dfh_r_small\")\n",
    "#run_experiment(dfp_phi, \"dfp_phi_small\")\n",
    "#run_experiment(dfh_phi, \"dfh_phi_small\")"
   ]
  },
  {
   "cell_type": "code",
   "execution_count": 17,
   "metadata": {},
   "outputs": [
    {
     "data": {
      "text/plain": [
       "Reusing TensorBoard on port 6006 (pid 6664), started 0:47:37 ago. (Use '!kill 6664' to kill it.)"
      ]
     },
     "metadata": {},
     "output_type": "display_data"
    },
    {
     "data": {
      "text/html": [
       "\n",
       "      <iframe id=\"tensorboard-frame-23bba81a617d9ed7\" width=\"100%\" height=\"800\" frameborder=\"0\">\n",
       "      </iframe>\n",
       "      <script>\n",
       "        (function() {\n",
       "          const frame = document.getElementById(\"tensorboard-frame-23bba81a617d9ed7\");\n",
       "          const url = new URL(\"/\", window.location);\n",
       "          const port = 6006;\n",
       "          if (port) {\n",
       "            url.port = port;\n",
       "          }\n",
       "          frame.src = url;\n",
       "        })();\n",
       "      </script>\n",
       "    "
      ],
      "text/plain": [
       "<IPython.core.display.HTML object>"
      ]
     },
     "metadata": {},
     "output_type": "display_data"
    }
   ],
   "source": [
    "%tensorboard --logdir lightning_logs --host 0.0.0.0\n"
   ]
  },
  {
   "cell_type": "code",
   "execution_count": null,
   "metadata": {},
   "outputs": [],
   "source": []
  }
 ],
 "metadata": {
  "kernelspec": {
   "display_name": "Python 3",
   "language": "python",
   "name": "python3"
  },
  "language_info": {
   "codemirror_mode": {
    "name": "ipython",
    "version": 3
   },
   "file_extension": ".py",
   "mimetype": "text/x-python",
   "name": "python",
   "nbconvert_exporter": "python",
   "pygments_lexer": "ipython3",
   "version": "3.8.5"
  },
  "name": "analise.ipynb"
 },
 "nbformat": 4,
 "nbformat_minor": 4
}
